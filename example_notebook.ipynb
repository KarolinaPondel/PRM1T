{
 "cells": [
  {
   "cell_type": "markdown",
   "id": "0f21d614-8de6-4b0b-bd95-13dc39bbf362",
   "metadata": {},
   "source": [
    "# Notebook guide"
   ]
  },
  {
   "cell_type": "markdown",
   "id": "85c4ad74-f317-4c72-ac96-4c4f4742334a",
   "metadata": {},
   "source": [
    "### Manage file"
   ]
  },
  {
   "cell_type": "markdown",
   "id": "99ec443e-b22f-4ba0-b945-8fb9456ab791",
   "metadata": {},
   "source": [
    "+ Shift + Enter - run the current cell, select below Ctrl + Enter - run selected cells <br>\n",
    "+ Alt + Enter - run and add new cell below <br>\n",
    "+ Shift + K/J and arrows up/down - select multiple cells Shift + M - merge multiple cells <br>"
   ]
  },
  {
   "cell_type": "markdown",
   "id": "1416dd4e-ecd2-45ca-8d37-3ffc8e5ae176",
   "metadata": {
    "tags": []
   },
   "source": [
    "### Manage cels"
   ]
  },
  {
   "cell_type": "markdown",
   "id": "32e70044-85c4-424f-a644-8b678994e771",
   "metadata": {},
   "source": [
    "Ctrl + S - save and checkpoint <br>"
   ]
  },
  {
   "cell_type": "markdown",
   "id": "294afcff-cd6d-42b6-90d1-f4dae6359e5b",
   "metadata": {},
   "source": [
    "### Take you into command mode Esc +"
   ]
  },
  {
   "cell_type": "markdown",
   "id": "f0d28cf4-5b34-4237-a2d9-7751221db569",
   "metadata": {},
   "source": [
    "Esc + <br>\n",
    "- A - insert cell above B - insert cell below DD - delete cell <br>\n",
    "- X - cut cell <br>\n",
    "- C - copy cell <br>\n",
    "- V - paste cell <br>\n",
    "- Z - undo cell <br>\n",
    "- Y - code cell <br>\n",
    "- M - markdown cell 00 - restart kernel <br>"
   ]
  },
  {
   "cell_type": "markdown",
   "id": "5b908b04-50a3-4a9f-a9df-5279b9716aa6",
   "metadata": {},
   "source": [
    "### Code edition"
   ]
  },
  {
   "cell_type": "markdown",
   "id": "ab153500-8c83-406a-a88b-8d398539c6bd",
   "metadata": {},
   "source": [
    "* Shift + tab - get more information about a method Ctrl + ] - indent <br>\n",
    "* Ctrl + [ - dedent  <br>\n",
    "* Ctrl  Home - go to cell start  <br>\n",
    "* Ctrl  End - go to cell end  <br>\n",
    "* Ctrl Left - go one word left  <br>\n",
    "* Ctrl Right - go one word right <br>"
   ]
  },
  {
   "cell_type": "markdown",
   "id": "3e2d6a4c-c378-443c-8d7f-a6a28923e365",
   "metadata": {
    "tags": []
   },
   "source": [
    "# Code "
   ]
  },
  {
   "cell_type": "code",
   "execution_count": 3,
   "id": "336c64ca-f739-44c9-b4d0-9d925817d949",
   "metadata": {},
   "outputs": [
    {
     "name": "stdout",
     "output_type": "stream",
     "text": [
      "Hello World!\n"
     ]
    }
   ],
   "source": [
    "print(\"Hello World!\")"
   ]
  },
  {
   "cell_type": "markdown",
   "id": "79aae9ce-5bb6-48e6-9e78-aadbdcfed8de",
   "metadata": {},
   "source": [
    "### Scripts"
   ]
  },
  {
   "cell_type": "markdown",
   "id": "41c9a76e-e626-4a42-bf02-35e090545d6e",
   "metadata": {},
   "source": [
    "#### Write python code scripy"
   ]
  },
  {
   "cell_type": "code",
   "execution_count": 23,
   "id": "cab76806-a0df-414d-abfc-ec71c79b3cda",
   "metadata": {},
   "outputs": [
    {
     "name": "stdout",
     "output_type": "stream",
     "text": [
      "Writing some_script.py\n"
     ]
    }
   ],
   "source": [
    "%%writefile some_script.py\n",
    "print(\"Hello\")"
   ]
  },
  {
   "cell_type": "markdown",
   "id": "1fb8d3c5-2e45-4a61-b159-c9f8ec299dbb",
   "metadata": {},
   "source": [
    "#### Show some_script.py"
   ]
  },
  {
   "cell_type": "code",
   "execution_count": 25,
   "id": "3bb4ed5b-2cd7-466a-92c4-1bcb45624d9c",
   "metadata": {},
   "outputs": [
    {
     "data": {
      "text/plain": [
       "\u001b[0mprint\u001b[0m\u001b[0;34m(\u001b[0m\u001b[0;34m\"Hello\"\u001b[0m\u001b[0;34m)\u001b[0m\u001b[0;34m\u001b[0m\u001b[0;34m\u001b[0m\u001b[0m\n"
      ]
     },
     "metadata": {},
     "output_type": "display_data"
    }
   ],
   "source": [
    "%pycat some_script.py"
   ]
  },
  {
   "cell_type": "markdown",
   "id": "37c58356-e2f3-475b-a256-96fc01a81916",
   "metadata": {},
   "source": [
    "#### Run some_script.py"
   ]
  },
  {
   "cell_type": "code",
   "execution_count": 26,
   "id": "d92aeb9f-59ab-48d1-add9-d9550040afdc",
   "metadata": {},
   "outputs": [
    {
     "name": "stdout",
     "output_type": "stream",
     "text": [
      "Hello\n"
     ]
    }
   ],
   "source": [
    "%run some_script.py"
   ]
  },
  {
   "cell_type": "markdown",
   "id": "f36321cd-5e4e-4698-aecc-1c5fbf230932",
   "metadata": {},
   "source": [
    "### Install packages"
   ]
  },
  {
   "cell_type": "code",
   "execution_count": 5,
   "id": "26d0d850-f8a8-46bc-b750-837d7dc82692",
   "metadata": {
    "collapsed": true,
    "jupyter": {
     "outputs_hidden": true
    },
    "tags": []
   },
   "outputs": [
    {
     "name": "stdout",
     "output_type": "stream",
     "text": [
      "Requirement already satisfied: pandas in /usr/local/lib/python3.9/dist-packages (1.5.0)\n",
      "Requirement already satisfied: pytz>=2020.1 in /usr/local/lib/python3.9/dist-packages (from pandas) (2022.4)\n",
      "Requirement already satisfied: numpy>=1.20.3 in /usr/local/lib/python3.9/dist-packages (from pandas) (1.22.2)\n",
      "Requirement already satisfied: python-dateutil>=2.8.1 in /usr/local/lib/python3.9/dist-packages (from pandas) (2.8.2)\n",
      "Requirement already satisfied: six>=1.5 in /usr/local/lib/python3.9/dist-packages (from python-dateutil>=2.8.1->pandas) (1.16.0)\n",
      "\u001b[33mWARNING: Running pip as the 'root' user can result in broken permissions and conflicting behaviour with the system package manager. It is recommended to use a virtual environment instead: https://pip.pypa.io/warnings/venv\u001b[0m\u001b[33m\n",
      "\u001b[0m\u001b[33mWARNING: You are using pip version 22.0.3; however, version 22.2.2 is available.\n",
      "You should consider upgrading via the '/usr/bin/python3.9 -m pip install --upgrade pip' command.\u001b[0m\u001b[33m\n",
      "\u001b[0m"
     ]
    }
   ],
   "source": [
    "!pip install pandas"
   ]
  },
  {
   "cell_type": "code",
   "execution_count": 6,
   "id": "29b467ec-ad96-41af-8862-2e20fcf7a5dd",
   "metadata": {
    "collapsed": true,
    "jupyter": {
     "outputs_hidden": true
    },
    "tags": []
   },
   "outputs": [
    {
     "name": "stdout",
     "output_type": "stream",
     "text": [
      "Requirement already satisfied: numpy in /usr/local/lib/python3.9/dist-packages (1.22.2)\n",
      "\u001b[33mWARNING: Running pip as the 'root' user can result in broken permissions and conflicting behaviour with the system package manager. It is recommended to use a virtual environment instead: https://pip.pypa.io/warnings/venv\u001b[0m\u001b[33m\n",
      "\u001b[0m\u001b[33mWARNING: You are using pip version 22.0.3; however, version 22.2.2 is available.\n",
      "You should consider upgrading via the '/usr/bin/python3.9 -m pip install --upgrade pip' command.\u001b[0m\u001b[33m\n",
      "\u001b[0m"
     ]
    }
   ],
   "source": [
    "!pip install numpy"
   ]
  },
  {
   "cell_type": "markdown",
   "id": "91e82e4c-cfc3-4b9e-a75a-f4c3b75fdeb1",
   "metadata": {},
   "source": [
    "### Write code in notebook"
   ]
  },
  {
   "cell_type": "code",
   "execution_count": 7,
   "id": "db7abcd0-7816-4fac-8f5e-cffef086db14",
   "metadata": {},
   "outputs": [],
   "source": [
    "import numpy as np\n",
    "import pandas as pd"
   ]
  },
  {
   "cell_type": "code",
   "execution_count": 31,
   "id": "18707da7-7e47-4093-b567-54649ea87196",
   "metadata": {},
   "outputs": [],
   "source": [
    "t = \"Hello\""
   ]
  },
  {
   "cell_type": "code",
   "execution_count": 32,
   "id": "bf6c8404-ae9d-4ec1-bf75-57013b1ffc32",
   "metadata": {},
   "outputs": [],
   "source": [
    "a = [[1,2,3], [4,5,6], [7,8,9]]"
   ]
  },
  {
   "cell_type": "code",
   "execution_count": 33,
   "id": "f2d254c7-f326-48a4-a6c5-0a9ce95290dc",
   "metadata": {},
   "outputs": [],
   "source": [
    "d = {\"b\": 1, \"a\": 0, \"c\": 2}"
   ]
  },
  {
   "cell_type": "code",
   "execution_count": 34,
   "id": "5cc8ddef-6a4e-4f30-95b0-eb7ab5d963c0",
   "metadata": {},
   "outputs": [
    {
     "data": {
      "text/plain": [
       "b    1\n",
       "a    0\n",
       "c    2\n",
       "dtype: int64"
      ]
     },
     "execution_count": 34,
     "metadata": {},
     "output_type": "execute_result"
    }
   ],
   "source": [
    "s = pd.Series(d)\n",
    "s"
   ]
  },
  {
   "cell_type": "markdown",
   "id": "c7f5caa1-8bdc-48ef-99c4-3b87eb90a635",
   "metadata": {},
   "source": [
    "# Pass variables between notebooks"
   ]
  },
  {
   "cell_type": "code",
   "execution_count": null,
   "id": "14d1f0a6-66fa-4779-a57c-f783b73445cc",
   "metadata": {},
   "outputs": [],
   "source": [
    "data = 'this is the string I want to pass to different notebook'\n",
    "%store data"
   ]
  },
  {
   "cell_type": "code",
   "execution_count": null,
   "id": "446bc2af-85b1-4da0-a057-2af97c140068",
   "metadata": {},
   "outputs": [],
   "source": [
    "%store -r data\n",
    "print(data)"
   ]
  },
  {
   "cell_type": "markdown",
   "id": "b4dfa8c9-d410-4463-b068-eada2ca975b8",
   "metadata": {},
   "source": [
    "# Timing"
   ]
  },
  {
   "cell_type": "code",
   "execution_count": null,
   "id": "014ba309-7ddc-4c59-98fc-72434ab67496",
   "metadata": {},
   "outputs": [],
   "source": [
    "%%time\n",
    "import time\n",
    "for _ in range(1000):\n",
    "    time.sleep(0.01) # sleep for 0.01 seconds"
   ]
  },
  {
   "cell_type": "markdown",
   "id": "95007cc8-5b8f-4421-ab6f-6f54cff94e04",
   "metadata": {},
   "source": [
    "# Help"
   ]
  },
  {
   "cell_type": "code",
   "execution_count": null,
   "id": "d3b4ad1a-0ea9-406c-a12e-844b7ae90fd1",
   "metadata": {},
   "outputs": [
    {
     "name": "stdout",
     "output_type": "stream",
     "text": [
      "\n",
      "Welcome to Python 3.10's help utility!\n",
      "\n",
      "If this is your first time using Python, you should definitely check out\n",
      "the tutorial on the internet at https://docs.python.org/3.10/tutorial/.\n",
      "\n",
      "Enter the name of any module, keyword, or topic to get help on writing\n",
      "Python programs and using Python modules.  To quit this help utility and\n",
      "return to the interpreter, just type \"quit\".\n",
      "\n",
      "To get a list of available modules, keywords, symbols, or topics, type\n",
      "\"modules\", \"keywords\", \"symbols\", or \"topics\".  Each module also comes\n",
      "with a one-line summary of what it does; to list the modules whose name\n",
      "or summary contain a given string such as \"spam\", type \"modules spam\".\n",
      "\n"
     ]
    }
   ],
   "source": [
    "help()"
   ]
  },
  {
   "cell_type": "markdown",
   "id": "9e8a4625-06e9-4878-b6c3-6f9bd472be0f",
   "metadata": {},
   "source": [
    "# Magic methods"
   ]
  },
  {
   "cell_type": "code",
   "execution_count": 35,
   "id": "b61c5690-0d7a-4d34-ab1c-77984fe0e1f6",
   "metadata": {},
   "outputs": [
    {
     "name": "stdout",
     "output_type": "stream",
     "text": [
      "Variable   Type      Data/Info\n",
      "------------------------------\n",
      "a          list      n=3\n",
      "d          dict      n=3\n",
      "np         module    <module 'numpy' from '/us<...>kages/numpy/__init__.py'>\n",
      "pd         module    <module 'pandas' from '/u<...>ages/pandas/__init__.py'>\n",
      "s          Series    b    1\\na    0\\nc    2\\ndtype: int64\n",
      "t          str       Hello\n"
     ]
    }
   ],
   "source": [
    "%whos"
   ]
  },
  {
   "cell_type": "code",
   "execution_count": 36,
   "id": "a23e0e41-f8ac-409e-8ee9-9b223b1ec041",
   "metadata": {},
   "outputs": [
    {
     "name": "stdout",
     "output_type": "stream",
     "text": [
      "a\t d\t np\t pd\t s\t t\t \n"
     ]
    }
   ],
   "source": [
    "%who"
   ]
  },
  {
   "cell_type": "code",
   "execution_count": 39,
   "id": "30217c5a-f0f5-4922-b571-985d97f27a37",
   "metadata": {
    "tags": []
   },
   "outputs": [
    {
     "name": "stdin",
     "output_type": "stream",
     "text": [
      "Once deleted, variables cannot be recovered. Proceed (y/[n])?  y\n"
     ]
    }
   ],
   "source": [
    "%reset"
   ]
  },
  {
   "cell_type": "code",
   "execution_count": 40,
   "id": "cb06927c-ac17-41e8-a2ab-7f99a401ef04",
   "metadata": {},
   "outputs": [
    {
     "name": "stdout",
     "output_type": "stream",
     "text": [
      "Interactive namespace is empty.\n"
     ]
    }
   ],
   "source": [
    "%whos"
   ]
  },
  {
   "cell_type": "markdown",
   "id": "0e404c36-0657-47f7-b384-d1ca3fdb6138",
   "metadata": {
    "tags": [],
    "toc-hr-collapsed": true
   },
   "source": [
    "# Markdown syntax"
   ]
  },
  {
   "cell_type": "markdown",
   "id": "7c4e373a-1fb3-4ead-a8ba-32eb2fbddc31",
   "metadata": {},
   "source": [
    "## Headings are rendered as titles."
   ]
  },
  {
   "cell_type": "markdown",
   "id": "f4da54e6-ffdd-424a-b47d-85dd24ddff95",
   "metadata": {
    "toc-hr-collapsed": true
   },
   "source": [
    "\n",
    "```markdown\n",
    "# Section 1\n",
    "# Section 2\n",
    "## Sub-section under Section 2\n",
    "### Sub-section under the sub-section under Section 2\n",
    "# Section 3\n",
    "```\n",
    "\n",
    "# Section 1\n",
    "# Section 2\n",
    "## Sub-section under Section 2\n",
    "### Sub-section under the sub-section under Section 2\n",
    "# Section 3"
   ]
  },
  {
   "cell_type": "markdown",
   "id": "6a5a4966-9f79-4a66-8163-3bf985872151",
   "metadata": {
    "tags": []
   },
   "source": [
    "## Lists"
   ]
  },
  {
   "cell_type": "markdown",
   "id": "fedfa897-dcf9-4b73-9d6e-bb9dcba02714",
   "metadata": {},
   "source": [
    "*   Red\n",
    "*   Green\n",
    "*   Blue"
   ]
  },
  {
   "cell_type": "markdown",
   "id": "ef655450-5734-4f53-a1dc-50e069eafc61",
   "metadata": {},
   "source": [
    "1.  Bird\n",
    "2.  McHale\n",
    "3.  Parish"
   ]
  },
  {
   "cell_type": "markdown",
   "id": "04ab822c-4ffe-423d-8ca8-b9a1f569cd2a",
   "metadata": {},
   "source": [
    "## Tables"
   ]
  },
  {
   "cell_type": "markdown",
   "id": "7240149c-663c-49c2-981e-23b015bafa2a",
   "metadata": {},
   "source": [
    "```markdown\n",
    "First column name  | Second column name \n",
    "-------------------|------------------\n",
    "Row 1, Col 1       | Row 1, Col 2 \n",
    "Row 2, Col 1       | Row 2, Col 2 \n",
    "\n",
    "```"
   ]
  },
  {
   "cell_type": "markdown",
   "id": "b0d931cf-3e3a-47d0-866f-eb2d1353ace4",
   "metadata": {},
   "source": [
    "First column name  | Second column name \n",
    "-------------------|------------------\n",
    "Row 1, Col 1       | Row 1, Col 2 \n",
    "Row 2, Col 1       | Row 2, Col 2 "
   ]
  },
  {
   "cell_type": "markdown",
   "id": "0d673a1e-b472-45ed-949f-1bb633abb954",
   "metadata": {},
   "source": [
    "## Equations"
   ]
  },
  {
   "cell_type": "markdown",
   "id": "8a549bd9-ffed-4929-ab7c-f96d1d4cf23e",
   "metadata": {},
   "source": [
    "$y=x^2$\n",
    "\n",
    "$e^{i\\pi} + 1 = 0$\n",
    "\n",
    "$e^x=\\sum_{i=0}^\\infty \\frac{1}{i!}x^i$\n",
    "\n",
    "$\\frac{n!}{k!(n-k)!} = {n \\choose k}$\n",
    "\n",
    "$A_{m,n} =\n",
    " \\begin{pmatrix}\n",
    "  a_{1,1} & a_{1,2} & \\cdots & a_{1,n} \\\\\n",
    "  a_{2,1} & a_{2,2} & \\cdots & a_{2,n} \\\\\n",
    "  \\vdots  & \\vdots  & \\ddots & \\vdots  \\\\\n",
    "  a_{m,1} & a_{m,2} & \\cdots & a_{m,n}\n",
    " \\end{pmatrix}$"
   ]
  },
  {
   "cell_type": "markdown",
   "id": "01b79104-09d6-4874-bceb-e8eaa840b525",
   "metadata": {},
   "source": [
    "## Indentation"
   ]
  },
  {
   "cell_type": "markdown",
   "id": "204e3a11-9cc9-48d7-942c-0a5dfeebc6d3",
   "metadata": {},
   "source": [
    "\n",
    "```markdown\n",
    ">One level of indentation\n",
    "```\n",
    "\n",
    ">One level of indentation\n",
    "\n",
    "\n",
    "```markdown\n",
    ">>Two levels of indentation\n",
    "```\n",
    "\n",
    ">>Two levels of indentation"
   ]
  },
  {
   "cell_type": "markdown",
   "id": "4e1af557-83d0-4ea0-b924-2bc8e6beaedf",
   "metadata": {},
   "source": [
    "## Code block"
   ]
  },
  {
   "cell_type": "markdown",
   "id": "f050372e-89e3-419d-bb3b-615d6eec95ff",
   "metadata": {},
   "source": [
    "````\n",
    "```python\n",
    "print(\"a\")\n",
    "```\n",
    "````\n",
    "\n",
    "```python\n",
    "print(\"a\")\n",
    "```"
   ]
  },
  {
   "cell_type": "code",
   "execution_count": null,
   "id": "d3aa2b63-4f3e-4526-8de1-da2b3a165d86",
   "metadata": {},
   "outputs": [],
   "source": []
  }
 ],
 "metadata": {
  "kernelspec": {
   "display_name": "Python 3 (ipykernel)",
   "language": "python",
   "name": "python3"
  },
  "language_info": {
   "codemirror_mode": {
    "name": "ipython",
    "version": 3
   },
   "file_extension": ".py",
   "mimetype": "text/x-python",
   "name": "python",
   "nbconvert_exporter": "python",
   "pygments_lexer": "ipython3",
   "version": "3.10.1"
  }
 },
 "nbformat": 4,
 "nbformat_minor": 5
}
